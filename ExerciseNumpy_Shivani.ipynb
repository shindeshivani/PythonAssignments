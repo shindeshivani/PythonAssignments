{
 "cells": [
  {
   "cell_type": "markdown",
   "id": "917a3be2-027f-48b8-a7f9-e2965bb9cc0f",
   "metadata": {},
   "source": [
    "**NumPy Exercises :**."
   ]
  },
  {
   "cell_type": "markdown",
   "id": "e3724f51-e2fd-4962-a7ca-e14d5a3474b0",
   "metadata": {},
   "source": [
    "Now that we've learned about NumPy let's test your knowledge. We'll start off with a few simple tasks, and then you'll be asked some more complicated questions."
   ]
  },
  {
   "cell_type": "code",
   "execution_count": 1,
   "id": "6c160778-cdbd-47e2-b68e-20d33955146f",
   "metadata": {},
   "outputs": [],
   "source": [
    "import numpy as np"
   ]
  },
  {
   "cell_type": "markdown",
   "id": "712730a1-8d1b-433a-9626-93938d40f1b4",
   "metadata": {},
   "source": [
    "1] Create an array of 10 zeros"
   ]
  },
  {
   "cell_type": "code",
   "execution_count": 4,
   "id": "17e188ae-5d68-4e59-be6c-e515c617cf16",
   "metadata": {},
   "outputs": [
    {
     "data": {
      "text/plain": [
       "array([0., 0., 0., 0., 0., 0., 0., 0., 0., 0.])"
      ]
     },
     "execution_count": 4,
     "metadata": {},
     "output_type": "execute_result"
    }
   ],
   "source": [
    "np.zeros(10)"
   ]
  },
  {
   "cell_type": "markdown",
   "id": "43ba6346-a6b0-4311-8e48-a3e6fef82e2d",
   "metadata": {},
   "source": [
    "2] Create an array of 10 ones"
   ]
  },
  {
   "cell_type": "code",
   "execution_count": 5,
   "id": "5ca4dca7-9e02-4b42-a31e-29f03fec9a8c",
   "metadata": {},
   "outputs": [
    {
     "data": {
      "text/plain": [
       "array([1., 1., 1., 1., 1., 1., 1., 1., 1., 1.])"
      ]
     },
     "execution_count": 5,
     "metadata": {},
     "output_type": "execute_result"
    }
   ],
   "source": [
    "np.ones(10)"
   ]
  },
  {
   "cell_type": "markdown",
   "id": "33e34bdd-dc24-48d9-aa57-7c980fe25d4f",
   "metadata": {},
   "source": [
    "3] Create an array of 10 fives"
   ]
  },
  {
   "cell_type": "code",
   "execution_count": 6,
   "id": "e4e4448e-6af0-408e-a3b1-7ec0cb9e76c6",
   "metadata": {},
   "outputs": [
    {
     "data": {
      "text/plain": [
       "array([5., 5., 5., 5., 5., 5., 5., 5., 5., 5.])"
      ]
     },
     "execution_count": 6,
     "metadata": {},
     "output_type": "execute_result"
    }
   ],
   "source": [
    "np.ones(10)*5"
   ]
  },
  {
   "cell_type": "code",
   "execution_count": 7,
   "id": "70b67451-48c8-42e9-8f49-69a1d2f886fa",
   "metadata": {},
   "outputs": [
    {
     "data": {
      "text/plain": [
       "array([5., 5., 5., 5., 5., 5., 5., 5., 5., 5.])"
      ]
     },
     "execution_count": 7,
     "metadata": {},
     "output_type": "execute_result"
    }
   ],
   "source": [
    "np.zeros(10)+5"
   ]
  },
  {
   "cell_type": "markdown",
   "id": "9ffb0efd-0ac6-4c0b-ac20-7ae12ddd08cd",
   "metadata": {},
   "source": [
    "4] Create an array of the integers from 10 to 50"
   ]
  },
  {
   "cell_type": "code",
   "execution_count": 8,
   "id": "ee9e4e62-8c72-4afb-90b4-125fe2c3b931",
   "metadata": {},
   "outputs": [
    {
     "data": {
      "text/plain": [
       "array([10, 11, 12, 13, 14, 15, 16, 17, 18, 19, 20, 21, 22, 23, 24, 25, 26,\n",
       "       27, 28, 29, 30, 31, 32, 33, 34, 35, 36, 37, 38, 39, 40, 41, 42, 43,\n",
       "       44, 45, 46, 47, 48, 49, 50])"
      ]
     },
     "execution_count": 8,
     "metadata": {},
     "output_type": "execute_result"
    }
   ],
   "source": [
    "np.arange(10,51,1)"
   ]
  },
  {
   "cell_type": "markdown",
   "id": "bd0579c1-6214-4722-8cfd-18d03e7e2b87",
   "metadata": {},
   "source": [
    "5] Create an array of all the even integers from 10 to 50"
   ]
  },
  {
   "cell_type": "code",
   "execution_count": 9,
   "id": "6542886f-e34f-4ac5-9733-ead4c7cab118",
   "metadata": {},
   "outputs": [
    {
     "data": {
      "text/plain": [
       "array([10, 12, 14, 16, 18, 20, 22, 24, 26, 28, 30, 32, 34, 36, 38, 40, 42,\n",
       "       44, 46, 48, 50])"
      ]
     },
     "execution_count": 9,
     "metadata": {},
     "output_type": "execute_result"
    }
   ],
   "source": [
    "np.arange(10,51,2)"
   ]
  },
  {
   "cell_type": "markdown",
   "id": "a8e4ff23-cb50-4534-8515-7397ce478232",
   "metadata": {},
   "source": [
    "6] Create a 3x3 matrix with values ranging from 0 to 8"
   ]
  },
  {
   "cell_type": "code",
   "execution_count": 10,
   "id": "1f70c410-5a1b-402b-a0a9-9ee5717f8364",
   "metadata": {},
   "outputs": [],
   "source": [
    "arr=np.arange(0,9)"
   ]
  },
  {
   "cell_type": "code",
   "execution_count": 11,
   "id": "8bfa1b4c-63d2-4444-bd0d-85e1a1073ad2",
   "metadata": {},
   "outputs": [
    {
     "data": {
      "text/plain": [
       "array([0, 1, 2, 3, 4, 5, 6, 7, 8])"
      ]
     },
     "execution_count": 11,
     "metadata": {},
     "output_type": "execute_result"
    }
   ],
   "source": [
    "arr"
   ]
  },
  {
   "cell_type": "code",
   "execution_count": 12,
   "id": "d1f62bea-8174-4ab6-8b86-15209bbc9e1e",
   "metadata": {},
   "outputs": [
    {
     "data": {
      "text/plain": [
       "array([[0, 1, 2],\n",
       "       [3, 4, 5],\n",
       "       [6, 7, 8]])"
      ]
     },
     "execution_count": 12,
     "metadata": {},
     "output_type": "execute_result"
    }
   ],
   "source": [
    "arr.reshape(3,3)"
   ]
  },
  {
   "cell_type": "markdown",
   "id": "e0f93f65-7284-472f-a8e8-c6aba825dda2",
   "metadata": {},
   "source": [
    "7] Create a 3x3 identity matrix"
   ]
  },
  {
   "cell_type": "code",
   "execution_count": 14,
   "id": "1b52f89c-9dce-4330-81a9-86d66582dfed",
   "metadata": {},
   "outputs": [
    {
     "data": {
      "text/plain": [
       "array([[1., 0., 0.],\n",
       "       [0., 1., 0.],\n",
       "       [0., 0., 1.]])"
      ]
     },
     "execution_count": 14,
     "metadata": {},
     "output_type": "execute_result"
    }
   ],
   "source": [
    "np.identity(3)"
   ]
  },
  {
   "cell_type": "markdown",
   "id": "105dd6cd-9801-4b1f-b0ee-abc4727cf30d",
   "metadata": {},
   "source": [
    "8] Use NumPy to generate a random number between 0 and 1\n"
   ]
  },
  {
   "cell_type": "code",
   "execution_count": 15,
   "id": "825e71d5-29e5-4f63-b319-7ec2826ffff9",
   "metadata": {},
   "outputs": [
    {
     "data": {
      "text/plain": [
       "0.2354295555419037"
      ]
     },
     "execution_count": 15,
     "metadata": {},
     "output_type": "execute_result"
    }
   ],
   "source": [
    "np.random.rand()"
   ]
  },
  {
   "cell_type": "markdown",
   "id": "ab938da7-e2aa-49d3-89bc-651e3d6d357f",
   "metadata": {},
   "source": [
    "9] Use NumPy to generate an array of 25 random numbers sampled from a standard normal distribution"
   ]
  },
  {
   "cell_type": "code",
   "execution_count": 16,
   "id": "1423362a-a290-421c-824e-831f3b2bfee0",
   "metadata": {},
   "outputs": [
    {
     "data": {
      "text/plain": [
       "array([ 0.72442172,  0.99238389, -0.07877677, -0.78642623, -1.59535519,\n",
       "        0.52884782, -0.50485046, -0.94132597, -0.40357288,  1.469745  ,\n",
       "        0.81942976, -0.24219744, -0.11918187,  0.0467616 , -0.47999651,\n",
       "       -0.78803645,  0.78497053, -0.4367099 , -0.33553169,  0.63864449,\n",
       "        0.93359871,  0.97432049, -0.15090743,  0.1563751 , -0.67004545])"
      ]
     },
     "execution_count": 16,
     "metadata": {},
     "output_type": "execute_result"
    }
   ],
   "source": [
    "np.random.randn(25)"
   ]
  },
  {
   "cell_type": "markdown",
   "id": "3cef2ef6-fb90-4b47-a094-5b3e491214ab",
   "metadata": {},
   "source": [
    "10] Create the following matrix:"
   ]
  },
  {
   "cell_type": "code",
   "execution_count": 26,
   "id": "36acb7fa-0264-4eff-8b5e-6b91748014b6",
   "metadata": {},
   "outputs": [],
   "source": [
    "arr=np.arange(0.01,1.01,0.01)"
   ]
  },
  {
   "cell_type": "code",
   "execution_count": 27,
   "id": "72e57c37-68ad-4e80-95b7-d35281604cd4",
   "metadata": {},
   "outputs": [
    {
     "data": {
      "text/plain": [
       "array([0.01, 0.02, 0.03, 0.04, 0.05, 0.06, 0.07, 0.08, 0.09, 0.1 , 0.11,\n",
       "       0.12, 0.13, 0.14, 0.15, 0.16, 0.17, 0.18, 0.19, 0.2 , 0.21, 0.22,\n",
       "       0.23, 0.24, 0.25, 0.26, 0.27, 0.28, 0.29, 0.3 , 0.31, 0.32, 0.33,\n",
       "       0.34, 0.35, 0.36, 0.37, 0.38, 0.39, 0.4 , 0.41, 0.42, 0.43, 0.44,\n",
       "       0.45, 0.46, 0.47, 0.48, 0.49, 0.5 , 0.51, 0.52, 0.53, 0.54, 0.55,\n",
       "       0.56, 0.57, 0.58, 0.59, 0.6 , 0.61, 0.62, 0.63, 0.64, 0.65, 0.66,\n",
       "       0.67, 0.68, 0.69, 0.7 , 0.71, 0.72, 0.73, 0.74, 0.75, 0.76, 0.77,\n",
       "       0.78, 0.79, 0.8 , 0.81, 0.82, 0.83, 0.84, 0.85, 0.86, 0.87, 0.88,\n",
       "       0.89, 0.9 , 0.91, 0.92, 0.93, 0.94, 0.95, 0.96, 0.97, 0.98, 0.99,\n",
       "       1.  ])"
      ]
     },
     "execution_count": 27,
     "metadata": {},
     "output_type": "execute_result"
    }
   ],
   "source": [
    "arr"
   ]
  },
  {
   "cell_type": "code",
   "execution_count": 29,
   "id": "728d7c09-4e12-44be-ad34-608e1d5313f5",
   "metadata": {},
   "outputs": [
    {
     "data": {
      "text/plain": [
       "array([[0.01, 0.02, 0.03, 0.04, 0.05, 0.06, 0.07, 0.08, 0.09, 0.1 ],\n",
       "       [0.11, 0.12, 0.13, 0.14, 0.15, 0.16, 0.17, 0.18, 0.19, 0.2 ],\n",
       "       [0.21, 0.22, 0.23, 0.24, 0.25, 0.26, 0.27, 0.28, 0.29, 0.3 ],\n",
       "       [0.31, 0.32, 0.33, 0.34, 0.35, 0.36, 0.37, 0.38, 0.39, 0.4 ],\n",
       "       [0.41, 0.42, 0.43, 0.44, 0.45, 0.46, 0.47, 0.48, 0.49, 0.5 ],\n",
       "       [0.51, 0.52, 0.53, 0.54, 0.55, 0.56, 0.57, 0.58, 0.59, 0.6 ],\n",
       "       [0.61, 0.62, 0.63, 0.64, 0.65, 0.66, 0.67, 0.68, 0.69, 0.7 ],\n",
       "       [0.71, 0.72, 0.73, 0.74, 0.75, 0.76, 0.77, 0.78, 0.79, 0.8 ],\n",
       "       [0.81, 0.82, 0.83, 0.84, 0.85, 0.86, 0.87, 0.88, 0.89, 0.9 ],\n",
       "       [0.91, 0.92, 0.93, 0.94, 0.95, 0.96, 0.97, 0.98, 0.99, 1.  ]])"
      ]
     },
     "execution_count": 29,
     "metadata": {},
     "output_type": "execute_result"
    }
   ],
   "source": [
    "arr.reshape(10,10)"
   ]
  },
  {
   "cell_type": "markdown",
   "id": "e599fbc7-c811-42f6-b8dc-747fd73e9a6c",
   "metadata": {},
   "source": [
    "11] Create an array of 20 linearly spaced points between 0 and 1:"
   ]
  },
  {
   "cell_type": "code",
   "execution_count": 30,
   "id": "b721a4f3-b4b2-49c6-bad9-b929d1d7942d",
   "metadata": {},
   "outputs": [
    {
     "data": {
      "text/plain": [
       "array([0.        , 0.05263158, 0.10526316, 0.15789474, 0.21052632,\n",
       "       0.26315789, 0.31578947, 0.36842105, 0.42105263, 0.47368421,\n",
       "       0.52631579, 0.57894737, 0.63157895, 0.68421053, 0.73684211,\n",
       "       0.78947368, 0.84210526, 0.89473684, 0.94736842, 1.        ])"
      ]
     },
     "execution_count": 30,
     "metadata": {},
     "output_type": "execute_result"
    }
   ],
   "source": [
    "np.linspace(0,1,20)"
   ]
  },
  {
   "cell_type": "markdown",
   "id": "2b084d88-8314-4387-8124-5040d53ecd66",
   "metadata": {},
   "source": [
    "**Numpy Indexing and Selection**"
   ]
  },
  {
   "cell_type": "markdown",
   "id": "a743739c-b3b4-4dfb-b1c6-6e94e6ffd0c0",
   "metadata": {},
   "source": [
    "Now you will be given a few matrices, and be asked to replicate the resulting matrix outputs:"
   ]
  },
  {
   "cell_type": "markdown",
   "id": "e42b4270-3e2c-40ac-a8fc-c1da7ab93955",
   "metadata": {},
   "source": [
    "1]---------------------------------"
   ]
  },
  {
   "cell_type": "code",
   "execution_count": 32,
   "id": "d262782e-2aa3-4b0c-a540-13bb0246ac2e",
   "metadata": {},
   "outputs": [],
   "source": [
    "arr=np.arange(1,26).reshape(5,5)"
   ]
  },
  {
   "cell_type": "code",
   "execution_count": 33,
   "id": "b26c3ca9-e029-4ed9-8b32-c54356a614a4",
   "metadata": {},
   "outputs": [
    {
     "data": {
      "text/plain": [
       "array([[ 1,  2,  3,  4,  5],\n",
       "       [ 6,  7,  8,  9, 10],\n",
       "       [11, 12, 13, 14, 15],\n",
       "       [16, 17, 18, 19, 20],\n",
       "       [21, 22, 23, 24, 25]])"
      ]
     },
     "execution_count": 33,
     "metadata": {},
     "output_type": "execute_result"
    }
   ],
   "source": [
    "arr"
   ]
  },
  {
   "cell_type": "code",
   "execution_count": 34,
   "id": "40114266-6bb9-41e2-8ca1-7117bdb6b871",
   "metadata": {},
   "outputs": [
    {
     "data": {
      "text/plain": [
       "array([[12, 13, 14, 15],\n",
       "       [17, 18, 19, 20],\n",
       "       [22, 23, 24, 25]])"
      ]
     },
     "execution_count": 34,
     "metadata": {},
     "output_type": "execute_result"
    }
   ],
   "source": [
    "arr[2:,1:]"
   ]
  },
  {
   "cell_type": "markdown",
   "id": "de96b8ba-14f9-4d3a-963a-183d8fa2bd9b",
   "metadata": {},
   "source": [
    "2]------------------------"
   ]
  },
  {
   "cell_type": "code",
   "execution_count": 35,
   "id": "308e232a-6354-4aba-a0b3-0153618e5541",
   "metadata": {},
   "outputs": [
    {
     "data": {
      "text/plain": [
       "20"
      ]
     },
     "execution_count": 35,
     "metadata": {},
     "output_type": "execute_result"
    }
   ],
   "source": [
    "arr[3,4]"
   ]
  },
  {
   "cell_type": "markdown",
   "id": "feafa422-2554-4a85-99b5-2abc38495098",
   "metadata": {},
   "source": [
    "3]---------------------------"
   ]
  },
  {
   "cell_type": "code",
   "execution_count": 36,
   "id": "081084a6-c399-4f8a-a980-befebf2576a5",
   "metadata": {},
   "outputs": [
    {
     "data": {
      "text/plain": [
       "array([[ 1,  2,  3,  4,  5],\n",
       "       [ 6,  7,  8,  9, 10],\n",
       "       [11, 12, 13, 14, 15],\n",
       "       [16, 17, 18, 19, 20],\n",
       "       [21, 22, 23, 24, 25]])"
      ]
     },
     "execution_count": 36,
     "metadata": {},
     "output_type": "execute_result"
    }
   ],
   "source": [
    "arr"
   ]
  },
  {
   "cell_type": "code",
   "execution_count": 38,
   "id": "7e495ff9-4760-4fbb-9702-d99f749523c3",
   "metadata": {},
   "outputs": [
    {
     "data": {
      "text/plain": [
       "array([[ 2],\n",
       "       [ 7],\n",
       "       [12]])"
      ]
     },
     "execution_count": 38,
     "metadata": {},
     "output_type": "execute_result"
    }
   ],
   "source": [
    "arr[0:3,1:2]"
   ]
  },
  {
   "cell_type": "markdown",
   "id": "48381263-7678-4dc7-99eb-2524010b7bf6",
   "metadata": {},
   "source": [
    "4]----------------------------"
   ]
  },
  {
   "cell_type": "code",
   "execution_count": 43,
   "id": "9284030c-1306-45cc-a7e8-9af642f95bdf",
   "metadata": {},
   "outputs": [
    {
     "data": {
      "text/plain": [
       "array([[21, 22, 23, 24, 25]])"
      ]
     },
     "execution_count": 43,
     "metadata": {},
     "output_type": "execute_result"
    }
   ],
   "source": [
    "arr[4:,0:]"
   ]
  },
  {
   "cell_type": "markdown",
   "id": "8ed397f0-f59c-4c98-92eb-6dbb8e379f64",
   "metadata": {},
   "source": [
    "5]-------------------------------"
   ]
  },
  {
   "cell_type": "code",
   "execution_count": 44,
   "id": "66b51946-4d9c-443f-83c3-a81675c2668a",
   "metadata": {},
   "outputs": [
    {
     "data": {
      "text/plain": [
       "array([[16, 17, 18, 19, 20],\n",
       "       [21, 22, 23, 24, 25]])"
      ]
     },
     "execution_count": 44,
     "metadata": {},
     "output_type": "execute_result"
    }
   ],
   "source": [
    "arr[3:,0:]"
   ]
  },
  {
   "cell_type": "markdown",
   "id": "91665321-794b-4a8f-90ca-1fa4893e3645",
   "metadata": {},
   "source": [
    "**Now do the following**"
   ]
  },
  {
   "cell_type": "markdown",
   "id": "6e34ee27-86f8-4624-8610-18db6d0cef22",
   "metadata": {},
   "source": [
    "1] Get the sum of all the values in mat"
   ]
  },
  {
   "cell_type": "code",
   "execution_count": 45,
   "id": "28a64c24-812a-4049-ba10-9d0b8b39db8e",
   "metadata": {},
   "outputs": [
    {
     "data": {
      "text/plain": [
       "array([[ 1,  2,  3,  4,  5],\n",
       "       [ 6,  7,  8,  9, 10],\n",
       "       [11, 12, 13, 14, 15],\n",
       "       [16, 17, 18, 19, 20],\n",
       "       [21, 22, 23, 24, 25]])"
      ]
     },
     "execution_count": 45,
     "metadata": {},
     "output_type": "execute_result"
    }
   ],
   "source": [
    "arr"
   ]
  },
  {
   "cell_type": "code",
   "execution_count": 46,
   "id": "106e07ab-1a8f-4573-91f9-39e68f2ae8e2",
   "metadata": {},
   "outputs": [
    {
     "data": {
      "text/plain": [
       "325"
      ]
     },
     "execution_count": 46,
     "metadata": {},
     "output_type": "execute_result"
    }
   ],
   "source": [
    "arr.sum()"
   ]
  },
  {
   "cell_type": "code",
   "execution_count": 47,
   "id": "9e4dbe5e-fe8f-4e2a-aa3a-2c13ac054496",
   "metadata": {},
   "outputs": [
    {
     "data": {
      "text/plain": [
       "325"
      ]
     },
     "execution_count": 47,
     "metadata": {},
     "output_type": "execute_result"
    }
   ],
   "source": [
    "np.sum(arr)"
   ]
  },
  {
   "cell_type": "markdown",
   "id": "623b65ff-509c-4720-9552-83812e53610d",
   "metadata": {},
   "source": [
    "2] Get the standard deviation of the values in mat"
   ]
  },
  {
   "cell_type": "code",
   "execution_count": 48,
   "id": "52485ea0-be75-4a65-902c-9928e9e313b3",
   "metadata": {},
   "outputs": [
    {
     "data": {
      "text/plain": [
       "array([[ 1,  2,  3,  4,  5],\n",
       "       [ 6,  7,  8,  9, 10],\n",
       "       [11, 12, 13, 14, 15],\n",
       "       [16, 17, 18, 19, 20],\n",
       "       [21, 22, 23, 24, 25]])"
      ]
     },
     "execution_count": 48,
     "metadata": {},
     "output_type": "execute_result"
    }
   ],
   "source": [
    "arr"
   ]
  },
  {
   "cell_type": "code",
   "execution_count": 49,
   "id": "3f6e6dad-e262-48c5-a709-51a052b1abb0",
   "metadata": {},
   "outputs": [
    {
     "data": {
      "text/plain": [
       "7.211102550927978"
      ]
     },
     "execution_count": 49,
     "metadata": {},
     "output_type": "execute_result"
    }
   ],
   "source": [
    "arr.std()"
   ]
  },
  {
   "cell_type": "markdown",
   "id": "c4ffd0d7-6fda-4973-b05c-b1cba1fe6ee8",
   "metadata": {},
   "source": [
    "3] Get the sum of all the columns in mat"
   ]
  },
  {
   "cell_type": "code",
   "execution_count": 50,
   "id": "1f2e89d3-a3e7-4814-ba38-7fc3d316a3d1",
   "metadata": {},
   "outputs": [
    {
     "data": {
      "text/plain": [
       "array([[ 1,  2,  3,  4,  5],\n",
       "       [ 6,  7,  8,  9, 10],\n",
       "       [11, 12, 13, 14, 15],\n",
       "       [16, 17, 18, 19, 20],\n",
       "       [21, 22, 23, 24, 25]])"
      ]
     },
     "execution_count": 50,
     "metadata": {},
     "output_type": "execute_result"
    }
   ],
   "source": [
    "arr"
   ]
  },
  {
   "cell_type": "code",
   "execution_count": 59,
   "id": "e91bbe01-c0cd-4f10-ad2f-0d2fbfe9f5a4",
   "metadata": {},
   "outputs": [
    {
     "data": {
      "text/plain": [
       "15"
      ]
     },
     "execution_count": 59,
     "metadata": {},
     "output_type": "execute_result"
    }
   ],
   "source": [
    "np.sum(arr[0])"
   ]
  },
  {
   "cell_type": "code",
   "execution_count": 60,
   "id": "008a1e41-5b5b-4469-a821-e3cdf9e85ad3",
   "metadata": {},
   "outputs": [
    {
     "data": {
      "text/plain": [
       "array([[ 5],\n",
       "       [10],\n",
       "       [15],\n",
       "       [20],\n",
       "       [25]])"
      ]
     },
     "execution_count": 60,
     "metadata": {},
     "output_type": "execute_result"
    }
   ],
   "source": [
    "arr[:,4:]"
   ]
  },
  {
   "cell_type": "code",
   "execution_count": 65,
   "id": "9964cafb-7247-40f8-9193-006f558f9b61",
   "metadata": {},
   "outputs": [
    {
     "data": {
      "text/plain": [
       "array([55, 60, 65, 70, 75])"
      ]
     },
     "execution_count": 65,
     "metadata": {},
     "output_type": "execute_result"
    }
   ],
   "source": [
    "np.sum(arr,axis=0)     #sum of all the columns"
   ]
  },
  {
   "cell_type": "code",
   "execution_count": 66,
   "id": "b4341eb9-cf30-425c-aa42-f2d9150c9460",
   "metadata": {},
   "outputs": [
    {
     "data": {
      "text/plain": [
       "array([55, 60, 65, 70, 75])"
      ]
     },
     "execution_count": 66,
     "metadata": {},
     "output_type": "execute_result"
    }
   ],
   "source": [
    "arr.sum(axis=0)        #sum of all the colums"
   ]
  },
  {
   "cell_type": "code",
   "execution_count": null,
   "id": "8ccbf0d7-ab80-4556-a370-daa7f0464e55",
   "metadata": {},
   "outputs": [],
   "source": []
  }
 ],
 "metadata": {
  "kernelspec": {
   "display_name": "Python 3 (ipykernel)",
   "language": "python",
   "name": "python3"
  },
  "language_info": {
   "codemirror_mode": {
    "name": "ipython",
    "version": 3
   },
   "file_extension": ".py",
   "mimetype": "text/x-python",
   "name": "python",
   "nbconvert_exporter": "python",
   "pygments_lexer": "ipython3",
   "version": "3.12.4"
  }
 },
 "nbformat": 4,
 "nbformat_minor": 5
}
